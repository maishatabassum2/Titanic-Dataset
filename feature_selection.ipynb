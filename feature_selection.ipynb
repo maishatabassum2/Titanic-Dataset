{
  "nbformat": 4,
  "nbformat_minor": 0,
  "metadata": {
    "colab": {
      "provenance": [],
      "authorship_tag": "ABX9TyNrHusesW0qr2fU+hvSLTSF",
      "include_colab_link": true
    },
    "kernelspec": {
      "name": "python3",
      "display_name": "Python 3"
    },
    "language_info": {
      "name": "python"
    }
  },
  "cells": [
    {
      "cell_type": "markdown",
      "metadata": {
        "id": "view-in-github",
        "colab_type": "text"
      },
      "source": [
        "<a href=\"https://colab.research.google.com/github/maishatabassum2/Titanic-Dataset/blob/main/feature_selection.ipynb\" target=\"_parent\"><img src=\"https://colab.research.google.com/assets/colab-badge.svg\" alt=\"Open In Colab\"/></a>"
      ]
    },
    {
      "cell_type": "code",
      "execution_count": null,
      "metadata": {
        "id": "1t5ha0jNXpmq"
      },
      "outputs": [],
      "source": []
    },
    {
      "cell_type": "code",
      "execution_count": null,
      "metadata": {
        "colab": {
          "base_uri": "https://localhost:8080/"
        },
        "id": "eLxlTAzsONy_",
        "outputId": "e2963691-d165-4997-e80e-7a5de244f887"
      },
      "outputs": [
        {
          "output_type": "stream",
          "name": "stdout",
          "text": [
            "Requirement already satisfied: opendatasets in /usr/local/lib/python3.12/dist-packages (0.1.22)\n",
            "Requirement already satisfied: tqdm in /usr/local/lib/python3.12/dist-packages (from opendatasets) (4.67.1)\n",
            "Requirement already satisfied: kaggle in /usr/local/lib/python3.12/dist-packages (from opendatasets) (1.7.4.5)\n",
            "Requirement already satisfied: click in /usr/local/lib/python3.12/dist-packages (from opendatasets) (8.2.1)\n",
            "Requirement already satisfied: bleach in /usr/local/lib/python3.12/dist-packages (from kaggle->opendatasets) (6.2.0)\n",
            "Requirement already satisfied: certifi>=14.05.14 in /usr/local/lib/python3.12/dist-packages (from kaggle->opendatasets) (2025.8.3)\n",
            "Requirement already satisfied: charset-normalizer in /usr/local/lib/python3.12/dist-packages (from kaggle->opendatasets) (3.4.3)\n",
            "Requirement already satisfied: idna in /usr/local/lib/python3.12/dist-packages (from kaggle->opendatasets) (3.10)\n",
            "Requirement already satisfied: protobuf in /usr/local/lib/python3.12/dist-packages (from kaggle->opendatasets) (5.29.5)\n",
            "Requirement already satisfied: python-dateutil>=2.5.3 in /usr/local/lib/python3.12/dist-packages (from kaggle->opendatasets) (2.9.0.post0)\n",
            "Requirement already satisfied: python-slugify in /usr/local/lib/python3.12/dist-packages (from kaggle->opendatasets) (8.0.4)\n",
            "Requirement already satisfied: requests in /usr/local/lib/python3.12/dist-packages (from kaggle->opendatasets) (2.32.4)\n",
            "Requirement already satisfied: setuptools>=21.0.0 in /usr/local/lib/python3.12/dist-packages (from kaggle->opendatasets) (75.2.0)\n",
            "Requirement already satisfied: six>=1.10 in /usr/local/lib/python3.12/dist-packages (from kaggle->opendatasets) (1.17.0)\n",
            "Requirement already satisfied: text-unidecode in /usr/local/lib/python3.12/dist-packages (from kaggle->opendatasets) (1.3)\n",
            "Requirement already satisfied: urllib3>=1.15.1 in /usr/local/lib/python3.12/dist-packages (from kaggle->opendatasets) (2.5.0)\n",
            "Requirement already satisfied: webencodings in /usr/local/lib/python3.12/dist-packages (from kaggle->opendatasets) (0.5.1)\n"
          ]
        }
      ],
      "source": [
        "pip install opendatasets\n"
      ]
    },
    {
      "cell_type": "code",
      "execution_count": null,
      "metadata": {
        "colab": {
          "base_uri": "https://localhost:8080/"
        },
        "id": "QyPi04AyeSAs",
        "outputId": "87ba2df2-69ea-485e-8a59-d31822ba68b3"
      },
      "outputs": [
        {
          "output_type": "stream",
          "name": "stdout",
          "text": [
            "Skipping, found downloaded files in \"./titanic\" (use force=True to force download)\n"
          ]
        }
      ],
      "source": [
        "import opendatasets as od\n",
        "od.download(\"https://www.kaggle.com/c/titanic/data?utm_source=chatgpt.com\")"
      ]
    },
    {
      "cell_type": "code",
      "source": [
        "import pandas as pd\n",
        "import numpy as np\n",
        "\n",
        "from sklearn.base import BaseEstimator, TransformerMixin\n",
        "from sklearn.pipeline import Pipeline\n",
        "from sklearn.compose import ColumnTransformer\n",
        "from sklearn.impute import SimpleImputer\n",
        "from sklearn.preprocessing import OneHotEncoder, StandardScaler\n",
        "from sklearn.ensemble import RandomForestClassifier\n",
        "from sklearn.model_selection import train_test_split, GridSearchCV\n",
        "from sklearn.ensemble import GradientBoostingClassifier\n",
        "\n"
      ],
      "metadata": {
        "id": "UC-NI662nWBb"
      },
      "execution_count": null,
      "outputs": []
    },
    {
      "cell_type": "code",
      "execution_count": null,
      "metadata": {
        "id": "xjMYVdy0pgpp"
      },
      "outputs": [],
      "source": [
        "import pandas as pd\n",
        "titanicdata = pd.read_csv(\"/content/titanic/train.csv\")"
      ]
    },
    {
      "cell_type": "markdown",
      "source": [
        "features\n"
      ],
      "metadata": {
        "id": "l2tKB5b5RAge"
      }
    },
    {
      "cell_type": "code",
      "source": [
        "titanicdata['Title'] = titanicdata['Name'].apply(lambda name: name.split(',')[1].split('.')[0].strip())\n",
        "\n",
        "\n",
        "normalized_titles = {\n",
        "    \"Capt\":       \"Officer\",\n",
        "    \"Col\":        \"Officer\",\n",
        "    \"Major\":      \"Officer\",\n",
        "    \"Jonkheer\":   \"Royalty\",\n",
        "    \"Don\":        \"Royalty\",\n",
        "    \"Sir\":        \"Royalty\",\n",
        "    \"Dr\":         \"Officer\",\n",
        "    \"Rev\":        \"Officer\",\n",
        "    \"the Countess\": \"Royalty\",\n",
        "    \"Countess\":   \"Royalty\",\n",
        "    \"Dona\":       \"Royalty\",\n",
        "    \"Mme\":        \"Mrs\",\n",
        "    \"Mlle\":       \"Miss\",\n",
        "    \"Ms\":         \"Miss\",\n",
        "    \"Mr\":         \"Mr\",\n",
        "    \"Mrs\":        \"Mrs\",\n",
        "    \"Miss\":       \"Miss\",\n",
        "    \"Master\":     \"Master\",\n",
        "    \"Lady\":       \"Royalty\"\n",
        "}\n",
        "\n",
        "titanicdata['Title'] = titanicdata['Title'].map(normalized_titles)\n",
        "\n",
        "\n",
        "print(titanicdata['Title'].value_counts())\n"
      ],
      "metadata": {
        "colab": {
          "base_uri": "https://localhost:8080/"
        },
        "id": "3prtGGFqQRxH",
        "outputId": "2e05ceba-1d76-4c10-a938-c7a35db03928"
      },
      "execution_count": null,
      "outputs": [
        {
          "output_type": "stream",
          "name": "stdout",
          "text": [
            "Title\n",
            "Mr         517\n",
            "Miss       185\n",
            "Mrs        126\n",
            "Master      40\n",
            "Officer     18\n",
            "Royalty      5\n",
            "Name: count, dtype: int64\n"
          ]
        }
      ]
    },
    {
      "cell_type": "markdown",
      "source": [
        "family size feature"
      ],
      "metadata": {
        "id": "A-DD5NwxRmyf"
      }
    },
    {
      "cell_type": "code",
      "source": [
        "titanicdata['FamilySize'] = titanicdata['SibSp'] + titanicdata['Parch'] + 1\n"
      ],
      "metadata": {
        "id": "v5hNrnRpRlT_"
      },
      "execution_count": null,
      "outputs": []
    },
    {
      "cell_type": "markdown",
      "source": [
        "cabin feature"
      ],
      "metadata": {
        "id": "wXvLDJS3Rpcr"
      }
    },
    {
      "cell_type": "code",
      "source": [
        "titanicdata['CabinLetter'] = titanicdata['Cabin'].map(lambda x: str(x)[0] if pd.notnull(x) else 'Unknown')"
      ],
      "metadata": {
        "id": "M5XsW6fDRt0D"
      },
      "execution_count": null,
      "outputs": []
    },
    {
      "cell_type": "markdown",
      "source": [
        "isAlone"
      ],
      "metadata": {
        "id": "DNWhdHcMbQ0A"
      }
    },
    {
      "cell_type": "code",
      "source": [
        "titanicdata['IsAlone'] = (titanicdata['FamilySize'] == 1).astype(int)\n"
      ],
      "metadata": {
        "id": "6XQIAmW_bQNR"
      },
      "execution_count": null,
      "outputs": []
    },
    {
      "cell_type": "markdown",
      "source": [
        "age imputer\n"
      ],
      "metadata": {
        "id": "e5tbk15WeYa5"
      }
    },
    {
      "cell_type": "code",
      "source": [
        "titanicdata['Age'] = titanicdata['Age'].fillna(titanicdata['Age'].median())"
      ],
      "metadata": {
        "id": "IiOU8FuGeaHt"
      },
      "execution_count": null,
      "outputs": []
    },
    {
      "cell_type": "code",
      "source": [
        "from sklearn.preprocessing import OneHotEncoder\n",
        "\n",
        "cat_cols = ['Sex', 'Title', 'CabinLetter', 'Embarked']\n",
        "\n",
        "titanic_encoded = pd.get_dummies(titanicdata, columns=cat_cols, drop_first=True)\n",
        "\n",
        "X = titanic_encoded.drop('Survived', axis=1)\n",
        "y = titanic_encoded['Survived']\n"
      ],
      "metadata": {
        "id": "MOnM2O3echQH"
      },
      "execution_count": null,
      "outputs": []
    },
    {
      "cell_type": "code",
      "source": [
        "X = titanicdata.drop(columns=['Survived', 'Name', 'Ticket', 'Cabin', 'PassengerId'])\n",
        "y = titanicdata['Survived']\n",
        "\n",
        "cat_cols = ['Sex', 'Title', 'CabinLetter', 'Embarked']\n",
        "X_encoded = pd.get_dummies(X, columns=cat_cols, drop_first=True)\n",
        "\n",
        "X_encoded = X_encoded.fillna(X_encoded.median())\n",
        "\n",
        "\n",
        "from sklearn.feature_selection import RFE\n",
        "from sklearn.ensemble import RandomForestClassifier\n",
        "\n",
        "rf = RandomForestClassifier(n_estimators=100, random_state=42)\n",
        "rfe = RFE(rf, n_features_to_select=5)\n",
        "rfe.fit(X_encoded, y)\n",
        "\n",
        "rfe_ranking = pd.Series(rfe.ranking_, index=X_encoded.columns).sort_values()\n",
        "print(\"RFE feature ranking (1 = most important):\")\n",
        "print(rfe_ranking)"
      ],
      "metadata": {
        "colab": {
          "base_uri": "https://localhost:8080/"
        },
        "id": "PqmLicRRclBN",
        "outputId": "2ce01f8e-0929-4a12-d669-94262b3cae81"
      },
      "execution_count": null,
      "outputs": [
        {
          "output_type": "stream",
          "name": "stdout",
          "text": [
            "RFE feature ranking (1 = most important):\n",
            "Pclass                  1\n",
            "Age                     1\n",
            "Sex_male                1\n",
            "Fare                    1\n",
            "Title_Mr                1\n",
            "FamilySize              2\n",
            "CabinLetter_Unknown     3\n",
            "SibSp                   4\n",
            "Title_Miss              5\n",
            "Title_Mrs               6\n",
            "Parch                   7\n",
            "Embarked_S              8\n",
            "IsAlone                 9\n",
            "Embarked_Q             10\n",
            "CabinLetter_E          11\n",
            "CabinLetter_C          12\n",
            "Title_Officer          13\n",
            "CabinLetter_B          14\n",
            "CabinLetter_D          15\n",
            "CabinLetter_F          16\n",
            "CabinLetter_G          17\n",
            "Title_Royalty          18\n",
            "CabinLetter_T          19\n",
            "dtype: int64\n"
          ]
        }
      ]
    },
    {
      "cell_type": "code",
      "source": [
        "from sklearn.feature_selection import SelectKBest, f_classif\n",
        "\n",
        "\n",
        "\n",
        "\n",
        "selector = SelectKBest(score_func=f_classif, k=6)\n",
        "selector.fit(X_encoded, y)\n",
        "\n",
        "# Get scores\n",
        "scores = pd.Series(selector.scores_, index=X_encoded.columns).sort_values(ascending=False)\n",
        "print(\"SelectKBest feature scores:\")\n",
        "print(scores.head(10))\n",
        "\n",
        "selected_features = X_encoded.columns[selector.get_support()]\n",
        "\n",
        "print(selected_features)"
      ],
      "metadata": {
        "colab": {
          "base_uri": "https://localhost:8080/"
        },
        "id": "MJuBh6_qfnLn",
        "outputId": "9c6d84f4-3d7d-4c89-c4b1-55d9a363e3d2"
      },
      "execution_count": null,
      "outputs": [
        {
          "output_type": "stream",
          "name": "stdout",
          "text": [
            "SelectKBest feature scores:\n",
            "Title_Mr               383.945495\n",
            "Sex_male               372.405724\n",
            "Title_Mrs              117.749079\n",
            "Pclass                 115.031272\n",
            "Title_Miss             112.860827\n",
            "CabinLetter_Unknown     99.253142\n",
            "Fare                    63.030764\n",
            "IsAlone                 38.353651\n",
            "CabinLetter_B           28.117228\n",
            "Embarked_S              22.075469\n",
            "dtype: float64\n",
            "Index(['Pclass', 'Sex_male', 'Title_Miss', 'Title_Mr', 'Title_Mrs',\n",
            "       'CabinLetter_Unknown'],\n",
            "      dtype='object')\n"
          ]
        }
      ]
    },
    {
      "cell_type": "code",
      "source": [],
      "metadata": {
        "id": "I_4vl4pqgYYs"
      },
      "execution_count": null,
      "outputs": []
    }
  ]
}