{
  "nbformat": 4,
  "nbformat_minor": 0,
  "metadata": {
    "colab": {
      "provenance": [],
      "authorship_tag": "ABX9TyMCiskhKG3SbBCCTNmWx/Qf",
      "include_colab_link": true
    },
    "kernelspec": {
      "name": "python3",
      "display_name": "Python 3"
    },
    "language_info": {
      "name": "python"
    }
  },
  "cells": [
    {
      "cell_type": "markdown",
      "metadata": {
        "id": "view-in-github",
        "colab_type": "text"
      },
      "source": [
        "<a href=\"https://colab.research.google.com/github/maishatabassum2/Titanic-Dataset/blob/main/titanic_2_gradientbosoting.ipynb\" target=\"_parent\"><img src=\"https://colab.research.google.com/assets/colab-badge.svg\" alt=\"Open In Colab\"/></a>"
      ]
    },
    {
      "cell_type": "code",
      "execution_count": null,
      "metadata": {
        "colab": {
          "base_uri": "https://localhost:8080/"
        },
        "id": "eqHQb2amday3",
        "outputId": "b5a59e97-a284-441b-a833-85a6c13b41d5"
      },
      "outputs": [
        {
          "output_type": "stream",
          "name": "stdout",
          "text": [
            "Requirement already satisfied: opendatasets in /usr/local/lib/python3.12/dist-packages (0.1.22)\n",
            "Requirement already satisfied: tqdm in /usr/local/lib/python3.12/dist-packages (from opendatasets) (4.67.1)\n",
            "Requirement already satisfied: kaggle in /usr/local/lib/python3.12/dist-packages (from opendatasets) (1.7.4.5)\n",
            "Requirement already satisfied: click in /usr/local/lib/python3.12/dist-packages (from opendatasets) (8.2.1)\n",
            "Requirement already satisfied: bleach in /usr/local/lib/python3.12/dist-packages (from kaggle->opendatasets) (6.2.0)\n",
            "Requirement already satisfied: certifi>=14.05.14 in /usr/local/lib/python3.12/dist-packages (from kaggle->opendatasets) (2025.8.3)\n",
            "Requirement already satisfied: charset-normalizer in /usr/local/lib/python3.12/dist-packages (from kaggle->opendatasets) (3.4.3)\n",
            "Requirement already satisfied: idna in /usr/local/lib/python3.12/dist-packages (from kaggle->opendatasets) (3.10)\n",
            "Requirement already satisfied: protobuf in /usr/local/lib/python3.12/dist-packages (from kaggle->opendatasets) (5.29.5)\n",
            "Requirement already satisfied: python-dateutil>=2.5.3 in /usr/local/lib/python3.12/dist-packages (from kaggle->opendatasets) (2.9.0.post0)\n",
            "Requirement already satisfied: python-slugify in /usr/local/lib/python3.12/dist-packages (from kaggle->opendatasets) (8.0.4)\n",
            "Requirement already satisfied: requests in /usr/local/lib/python3.12/dist-packages (from kaggle->opendatasets) (2.32.4)\n",
            "Requirement already satisfied: setuptools>=21.0.0 in /usr/local/lib/python3.12/dist-packages (from kaggle->opendatasets) (75.2.0)\n",
            "Requirement already satisfied: six>=1.10 in /usr/local/lib/python3.12/dist-packages (from kaggle->opendatasets) (1.17.0)\n",
            "Requirement already satisfied: text-unidecode in /usr/local/lib/python3.12/dist-packages (from kaggle->opendatasets) (1.3)\n",
            "Requirement already satisfied: urllib3>=1.15.1 in /usr/local/lib/python3.12/dist-packages (from kaggle->opendatasets) (2.5.0)\n",
            "Requirement already satisfied: webencodings in /usr/local/lib/python3.12/dist-packages (from kaggle->opendatasets) (0.5.1)\n"
          ]
        }
      ],
      "source": [
        "pip install opendatasets"
      ]
    },
    {
      "cell_type": "code",
      "source": [
        "!pip install xgboost opendatasets --quiet"
      ],
      "metadata": {
        "id": "yiXsRgiMaPKz"
      },
      "execution_count": null,
      "outputs": []
    },
    {
      "cell_type": "code",
      "execution_count": null,
      "metadata": {
        "colab": {
          "base_uri": "https://localhost:8080/"
        },
        "id": "QyPi04AyeSAs",
        "outputId": "2c561b61-a137-48b6-d6b8-39f19618d5f0"
      },
      "outputs": [
        {
          "output_type": "stream",
          "name": "stdout",
          "text": [
            "Skipping, found downloaded files in \"./titanic\" (use force=True to force download)\n"
          ]
        }
      ],
      "source": [
        "import opendatasets as od\n",
        "od.download(\"https://www.kaggle.com/c/titanic/data")"
      ]
    },
    {
      "cell_type": "code",
      "source": [
        "import pandas as pd\n",
        "import numpy as np\n",
        "\n",
        "from sklearn.base import BaseEstimator, TransformerMixin\n",
        "from sklearn.pipeline import Pipeline\n",
        "from sklearn.compose import ColumnTransformer\n",
        "from sklearn.impute import SimpleImputer\n",
        "from sklearn.preprocessing import OneHotEncoder, StandardScaler\n",
        "from sklearn.ensemble import RandomForestClassifier\n",
        "from sklearn.model_selection import train_test_split, GridSearchCV\n",
        "from sklearn.ensemble import GradientBoostingClassifier\n",
        "\n"
      ],
      "metadata": {
        "id": "UC-NI662nWBb"
      },
      "execution_count": null,
      "outputs": []
    },
    {
      "cell_type": "code",
      "execution_count": null,
      "metadata": {
        "id": "xjMYVdy0pgpp"
      },
      "outputs": [],
      "source": [
        "import pandas as pd\n",
        "titanicdata = pd.read_csv(\"/content/titanic/train.csv\")"
      ]
    },
    {
      "cell_type": "code",
      "execution_count": null,
      "metadata": {
        "colab": {
          "base_uri": "https://localhost:8080/",
          "height": 947
        },
        "id": "d-1-22Kxp6-2",
        "outputId": "ff9c03f4-8480-432c-8d1d-a97c5dc104f2"
      },
      "outputs": [
        {
          "output_type": "execute_result",
          "data": {
            "text/plain": [
              "     PassengerId  Survived  Pclass  \\\n",
              "0              1         0       3   \n",
              "1              2         1       1   \n",
              "2              3         1       3   \n",
              "3              4         1       1   \n",
              "4              5         0       3   \n",
              "..           ...       ...     ...   \n",
              "886          887         0       2   \n",
              "887          888         1       1   \n",
              "888          889         0       3   \n",
              "889          890         1       1   \n",
              "890          891         0       3   \n",
              "\n",
              "                                                  Name     Sex   Age  SibSp  \\\n",
              "0                              Braund, Mr. Owen Harris    male  22.0      1   \n",
              "1    Cumings, Mrs. John Bradley (Florence Briggs Th...  female  38.0      1   \n",
              "2                               Heikkinen, Miss. Laina  female  26.0      0   \n",
              "3         Futrelle, Mrs. Jacques Heath (Lily May Peel)  female  35.0      1   \n",
              "4                             Allen, Mr. William Henry    male  35.0      0   \n",
              "..                                                 ...     ...   ...    ...   \n",
              "886                              Montvila, Rev. Juozas    male  27.0      0   \n",
              "887                       Graham, Miss. Margaret Edith  female  19.0      0   \n",
              "888           Johnston, Miss. Catherine Helen \"Carrie\"  female   NaN      1   \n",
              "889                              Behr, Mr. Karl Howell    male  26.0      0   \n",
              "890                                Dooley, Mr. Patrick    male  32.0      0   \n",
              "\n",
              "     Parch            Ticket     Fare Cabin Embarked  \n",
              "0        0         A/5 21171   7.2500   NaN        S  \n",
              "1        0          PC 17599  71.2833   C85        C  \n",
              "2        0  STON/O2. 3101282   7.9250   NaN        S  \n",
              "3        0            113803  53.1000  C123        S  \n",
              "4        0            373450   8.0500   NaN        S  \n",
              "..     ...               ...      ...   ...      ...  \n",
              "886      0            211536  13.0000   NaN        S  \n",
              "887      0            112053  30.0000   B42        S  \n",
              "888      2        W./C. 6607  23.4500   NaN        S  \n",
              "889      0            111369  30.0000  C148        C  \n",
              "890      0            370376   7.7500   NaN        Q  \n",
              "\n",
              "[891 rows x 12 columns]"
            ],
            "text/html": [
              "\n",
              "  <div id=\"df-4c070184-4642-4219-9224-b8230550a0ba\" class=\"colab-df-container\">\n",
              "    <div>\n",
              "<style scoped>\n",
              "    .dataframe tbody tr th:only-of-type {\n",
              "        vertical-align: middle;\n",
              "    }\n",
              "\n",
              "    .dataframe tbody tr th {\n",
              "        vertical-align: top;\n",
              "    }\n",
              "\n",
              "    .dataframe thead th {\n",
              "        text-align: right;\n",
              "    }\n",
              "</style>\n",
              "<table border=\"1\" class=\"dataframe\">\n",
              "  <thead>\n",
              "    <tr style=\"text-align: right;\">\n",
              "      <th></th>\n",
              "      <th>PassengerId</th>\n",
              "      <th>Survived</th>\n",
              "      <th>Pclass</th>\n",
              "      <th>Name</th>\n",
              "      <th>Sex</th>\n",
              "      <th>Age</th>\n",
              "      <th>SibSp</th>\n",
              "      <th>Parch</th>\n",
              "      <th>Ticket</th>\n",
              "      <th>Fare</th>\n",
              "      <th>Cabin</th>\n",
              "      <th>Embarked</th>\n",
              "    </tr>\n",
              "  </thead>\n",
              "  <tbody>\n",
              "    <tr>\n",
              "      <th>0</th>\n",
              "      <td>1</td>\n",
              "      <td>0</td>\n",
              "      <td>3</td>\n",
              "      <td>Braund, Mr. Owen Harris</td>\n",
              "      <td>male</td>\n",
              "      <td>22.0</td>\n",
              "      <td>1</td>\n",
              "      <td>0</td>\n",
              "      <td>A/5 21171</td>\n",
              "      <td>7.2500</td>\n",
              "      <td>NaN</td>\n",
              "      <td>S</td>\n",
              "    </tr>\n",
              "    <tr>\n",
              "      <th>1</th>\n",
              "      <td>2</td>\n",
              "      <td>1</td>\n",
              "      <td>1</td>\n",
              "      <td>Cumings, Mrs. John Bradley (Florence Briggs Th...</td>\n",
              "      <td>female</td>\n",
              "      <td>38.0</td>\n",
              "      <td>1</td>\n",
              "      <td>0</td>\n",
              "      <td>PC 17599</td>\n",
              "      <td>71.2833</td>\n",
              "      <td>C85</td>\n",
              "      <td>C</td>\n",
              "    </tr>\n",
              "    <tr>\n",
              "      <th>2</th>\n",
              "      <td>3</td>\n",
              "      <td>1</td>\n",
              "      <td>3</td>\n",
              "      <td>Heikkinen, Miss. Laina</td>\n",
              "      <td>female</td>\n",
              "      <td>26.0</td>\n",
              "      <td>0</td>\n",
              "      <td>0</td>\n",
              "      <td>STON/O2. 3101282</td>\n",
              "      <td>7.9250</td>\n",
              "      <td>NaN</td>\n",
              "      <td>S</td>\n",
              "    </tr>\n",
              "    <tr>\n",
              "      <th>3</th>\n",
              "      <td>4</td>\n",
              "      <td>1</td>\n",
              "      <td>1</td>\n",
              "      <td>Futrelle, Mrs. Jacques Heath (Lily May Peel)</td>\n",
              "      <td>female</td>\n",
              "      <td>35.0</td>\n",
              "      <td>1</td>\n",
              "      <td>0</td>\n",
              "      <td>113803</td>\n",
              "      <td>53.1000</td>\n",
              "      <td>C123</td>\n",
              "      <td>S</td>\n",
              "    </tr>\n",
              "    <tr>\n",
              "      <th>4</th>\n",
              "      <td>5</td>\n",
              "      <td>0</td>\n",
              "      <td>3</td>\n",
              "      <td>Allen, Mr. William Henry</td>\n",
              "      <td>male</td>\n",
              "      <td>35.0</td>\n",
              "      <td>0</td>\n",
              "      <td>0</td>\n",
              "      <td>373450</td>\n",
              "      <td>8.0500</td>\n",
              "      <td>NaN</td>\n",
              "      <td>S</td>\n",
              "    </tr>\n",
              "    <tr>\n",
              "      <th>...</th>\n",
              "      <td>...</td>\n",
              "      <td>...</td>\n",
              "      <td>...</td>\n",
              "      <td>...</td>\n",
              "      <td>...</td>\n",
              "      <td>...</td>\n",
              "      <td>...</td>\n",
              "      <td>...</td>\n",
              "      <td>...</td>\n",
              "      <td>...</td>\n",
              "      <td>...</td>\n",
              "      <td>...</td>\n",
              "    </tr>\n",
              "    <tr>\n",
              "      <th>886</th>\n",
              "      <td>887</td>\n",
              "      <td>0</td>\n",
              "      <td>2</td>\n",
              "      <td>Montvila, Rev. Juozas</td>\n",
              "      <td>male</td>\n",
              "      <td>27.0</td>\n",
              "      <td>0</td>\n",
              "      <td>0</td>\n",
              "      <td>211536</td>\n",
              "      <td>13.0000</td>\n",
              "      <td>NaN</td>\n",
              "      <td>S</td>\n",
              "    </tr>\n",
              "    <tr>\n",
              "      <th>887</th>\n",
              "      <td>888</td>\n",
              "      <td>1</td>\n",
              "      <td>1</td>\n",
              "      <td>Graham, Miss. Margaret Edith</td>\n",
              "      <td>female</td>\n",
              "      <td>19.0</td>\n",
              "      <td>0</td>\n",
              "      <td>0</td>\n",
              "      <td>112053</td>\n",
              "      <td>30.0000</td>\n",
              "      <td>B42</td>\n",
              "      <td>S</td>\n",
              "    </tr>\n",
              "    <tr>\n",
              "      <th>888</th>\n",
              "      <td>889</td>\n",
              "      <td>0</td>\n",
              "      <td>3</td>\n",
              "      <td>Johnston, Miss. Catherine Helen \"Carrie\"</td>\n",
              "      <td>female</td>\n",
              "      <td>NaN</td>\n",
              "      <td>1</td>\n",
              "      <td>2</td>\n",
              "      <td>W./C. 6607</td>\n",
              "      <td>23.4500</td>\n",
              "      <td>NaN</td>\n",
              "      <td>S</td>\n",
              "    </tr>\n",
              "    <tr>\n",
              "      <th>889</th>\n",
              "      <td>890</td>\n",
              "      <td>1</td>\n",
              "      <td>1</td>\n",
              "      <td>Behr, Mr. Karl Howell</td>\n",
              "      <td>male</td>\n",
              "      <td>26.0</td>\n",
              "      <td>0</td>\n",
              "      <td>0</td>\n",
              "      <td>111369</td>\n",
              "      <td>30.0000</td>\n",
              "      <td>C148</td>\n",
              "      <td>C</td>\n",
              "    </tr>\n",
              "    <tr>\n",
              "      <th>890</th>\n",
              "      <td>891</td>\n",
              "      <td>0</td>\n",
              "      <td>3</td>\n",
              "      <td>Dooley, Mr. Patrick</td>\n",
              "      <td>male</td>\n",
              "      <td>32.0</td>\n",
              "      <td>0</td>\n",
              "      <td>0</td>\n",
              "      <td>370376</td>\n",
              "      <td>7.7500</td>\n",
              "      <td>NaN</td>\n",
              "      <td>Q</td>\n",
              "    </tr>\n",
              "  </tbody>\n",
              "</table>\n",
              "<p>891 rows × 12 columns</p>\n",
              "</div>\n",
              "    <div class=\"colab-df-buttons\">\n",
              "\n",
              "  <div class=\"colab-df-container\">\n",
              "    <button class=\"colab-df-convert\" onclick=\"convertToInteractive('df-4c070184-4642-4219-9224-b8230550a0ba')\"\n",
              "            title=\"Convert this dataframe to an interactive table.\"\n",
              "            style=\"display:none;\">\n",
              "\n",
              "  <svg xmlns=\"http://www.w3.org/2000/svg\" height=\"24px\" viewBox=\"0 -960 960 960\">\n",
              "    <path d=\"M120-120v-720h720v720H120Zm60-500h600v-160H180v160Zm220 220h160v-160H400v160Zm0 220h160v-160H400v160ZM180-400h160v-160H180v160Zm440 0h160v-160H620v160ZM180-180h160v-160H180v160Zm440 0h160v-160H620v160Z\"/>\n",
              "  </svg>\n",
              "    </button>\n",
              "\n",
              "  <style>\n",
              "    .colab-df-container {\n",
              "      display:flex;\n",
              "      gap: 12px;\n",
              "    }\n",
              "\n",
              "    .colab-df-convert {\n",
              "      background-color: #E8F0FE;\n",
              "      border: none;\n",
              "      border-radius: 50%;\n",
              "      cursor: pointer;\n",
              "      display: none;\n",
              "      fill: #1967D2;\n",
              "      height: 32px;\n",
              "      padding: 0 0 0 0;\n",
              "      width: 32px;\n",
              "    }\n",
              "\n",
              "    .colab-df-convert:hover {\n",
              "      background-color: #E2EBFA;\n",
              "      box-shadow: 0px 1px 2px rgba(60, 64, 67, 0.3), 0px 1px 3px 1px rgba(60, 64, 67, 0.15);\n",
              "      fill: #174EA6;\n",
              "    }\n",
              "\n",
              "    .colab-df-buttons div {\n",
              "      margin-bottom: 4px;\n",
              "    }\n",
              "\n",
              "    [theme=dark] .colab-df-convert {\n",
              "      background-color: #3B4455;\n",
              "      fill: #D2E3FC;\n",
              "    }\n",
              "\n",
              "    [theme=dark] .colab-df-convert:hover {\n",
              "      background-color: #434B5C;\n",
              "      box-shadow: 0px 1px 3px 1px rgba(0, 0, 0, 0.15);\n",
              "      filter: drop-shadow(0px 1px 2px rgba(0, 0, 0, 0.3));\n",
              "      fill: #FFFFFF;\n",
              "    }\n",
              "  </style>\n",
              "\n",
              "    <script>\n",
              "      const buttonEl =\n",
              "        document.querySelector('#df-4c070184-4642-4219-9224-b8230550a0ba button.colab-df-convert');\n",
              "      buttonEl.style.display =\n",
              "        google.colab.kernel.accessAllowed ? 'block' : 'none';\n",
              "\n",
              "      async function convertToInteractive(key) {\n",
              "        const element = document.querySelector('#df-4c070184-4642-4219-9224-b8230550a0ba');\n",
              "        const dataTable =\n",
              "          await google.colab.kernel.invokeFunction('convertToInteractive',\n",
              "                                                    [key], {});\n",
              "        if (!dataTable) return;\n",
              "\n",
              "        const docLinkHtml = 'Like what you see? Visit the ' +\n",
              "          '<a target=\"_blank\" href=https://colab.research.google.com/notebooks/data_table.ipynb>data table notebook</a>'\n",
              "          + ' to learn more about interactive tables.';\n",
              "        element.innerHTML = '';\n",
              "        dataTable['output_type'] = 'display_data';\n",
              "        await google.colab.output.renderOutput(dataTable, element);\n",
              "        const docLink = document.createElement('div');\n",
              "        docLink.innerHTML = docLinkHtml;\n",
              "        element.appendChild(docLink);\n",
              "      }\n",
              "    </script>\n",
              "  </div>\n",
              "\n",
              "\n",
              "    <div id=\"df-7b5ad2fb-51f6-48b2-9a0b-04162583e8fe\">\n",
              "      <button class=\"colab-df-quickchart\" onclick=\"quickchart('df-7b5ad2fb-51f6-48b2-9a0b-04162583e8fe')\"\n",
              "                title=\"Suggest charts\"\n",
              "                style=\"display:none;\">\n",
              "\n",
              "<svg xmlns=\"http://www.w3.org/2000/svg\" height=\"24px\"viewBox=\"0 0 24 24\"\n",
              "     width=\"24px\">\n",
              "    <g>\n",
              "        <path d=\"M19 3H5c-1.1 0-2 .9-2 2v14c0 1.1.9 2 2 2h14c1.1 0 2-.9 2-2V5c0-1.1-.9-2-2-2zM9 17H7v-7h2v7zm4 0h-2V7h2v10zm4 0h-2v-4h2v4z\"/>\n",
              "    </g>\n",
              "</svg>\n",
              "      </button>\n",
              "\n",
              "<style>\n",
              "  .colab-df-quickchart {\n",
              "      --bg-color: #E8F0FE;\n",
              "      --fill-color: #1967D2;\n",
              "      --hover-bg-color: #E2EBFA;\n",
              "      --hover-fill-color: #174EA6;\n",
              "      --disabled-fill-color: #AAA;\n",
              "      --disabled-bg-color: #DDD;\n",
              "  }\n",
              "\n",
              "  [theme=dark] .colab-df-quickchart {\n",
              "      --bg-color: #3B4455;\n",
              "      --fill-color: #D2E3FC;\n",
              "      --hover-bg-color: #434B5C;\n",
              "      --hover-fill-color: #FFFFFF;\n",
              "      --disabled-bg-color: #3B4455;\n",
              "      --disabled-fill-color: #666;\n",
              "  }\n",
              "\n",
              "  .colab-df-quickchart {\n",
              "    background-color: var(--bg-color);\n",
              "    border: none;\n",
              "    border-radius: 50%;\n",
              "    cursor: pointer;\n",
              "    display: none;\n",
              "    fill: var(--fill-color);\n",
              "    height: 32px;\n",
              "    padding: 0;\n",
              "    width: 32px;\n",
              "  }\n",
              "\n",
              "  .colab-df-quickchart:hover {\n",
              "    background-color: var(--hover-bg-color);\n",
              "    box-shadow: 0 1px 2px rgba(60, 64, 67, 0.3), 0 1px 3px 1px rgba(60, 64, 67, 0.15);\n",
              "    fill: var(--button-hover-fill-color);\n",
              "  }\n",
              "\n",
              "  .colab-df-quickchart-complete:disabled,\n",
              "  .colab-df-quickchart-complete:disabled:hover {\n",
              "    background-color: var(--disabled-bg-color);\n",
              "    fill: var(--disabled-fill-color);\n",
              "    box-shadow: none;\n",
              "  }\n",
              "\n",
              "  .colab-df-spinner {\n",
              "    border: 2px solid var(--fill-color);\n",
              "    border-color: transparent;\n",
              "    border-bottom-color: var(--fill-color);\n",
              "    animation:\n",
              "      spin 1s steps(1) infinite;\n",
              "  }\n",
              "\n",
              "  @keyframes spin {\n",
              "    0% {\n",
              "      border-color: transparent;\n",
              "      border-bottom-color: var(--fill-color);\n",
              "      border-left-color: var(--fill-color);\n",
              "    }\n",
              "    20% {\n",
              "      border-color: transparent;\n",
              "      border-left-color: var(--fill-color);\n",
              "      border-top-color: var(--fill-color);\n",
              "    }\n",
              "    30% {\n",
              "      border-color: transparent;\n",
              "      border-left-color: var(--fill-color);\n",
              "      border-top-color: var(--fill-color);\n",
              "      border-right-color: var(--fill-color);\n",
              "    }\n",
              "    40% {\n",
              "      border-color: transparent;\n",
              "      border-right-color: var(--fill-color);\n",
              "      border-top-color: var(--fill-color);\n",
              "    }\n",
              "    60% {\n",
              "      border-color: transparent;\n",
              "      border-right-color: var(--fill-color);\n",
              "    }\n",
              "    80% {\n",
              "      border-color: transparent;\n",
              "      border-right-color: var(--fill-color);\n",
              "      border-bottom-color: var(--fill-color);\n",
              "    }\n",
              "    90% {\n",
              "      border-color: transparent;\n",
              "      border-bottom-color: var(--fill-color);\n",
              "    }\n",
              "  }\n",
              "</style>\n",
              "\n",
              "      <script>\n",
              "        async function quickchart(key) {\n",
              "          const quickchartButtonEl =\n",
              "            document.querySelector('#' + key + ' button');\n",
              "          quickchartButtonEl.disabled = true;  // To prevent multiple clicks.\n",
              "          quickchartButtonEl.classList.add('colab-df-spinner');\n",
              "          try {\n",
              "            const charts = await google.colab.kernel.invokeFunction(\n",
              "                'suggestCharts', [key], {});\n",
              "          } catch (error) {\n",
              "            console.error('Error during call to suggestCharts:', error);\n",
              "          }\n",
              "          quickchartButtonEl.classList.remove('colab-df-spinner');\n",
              "          quickchartButtonEl.classList.add('colab-df-quickchart-complete');\n",
              "        }\n",
              "        (() => {\n",
              "          let quickchartButtonEl =\n",
              "            document.querySelector('#df-7b5ad2fb-51f6-48b2-9a0b-04162583e8fe button');\n",
              "          quickchartButtonEl.style.display =\n",
              "            google.colab.kernel.accessAllowed ? 'block' : 'none';\n",
              "        })();\n",
              "      </script>\n",
              "    </div>\n",
              "\n",
              "  <div id=\"id_f156d979-483d-4b52-a65b-9949976666a2\">\n",
              "    <style>\n",
              "      .colab-df-generate {\n",
              "        background-color: #E8F0FE;\n",
              "        border: none;\n",
              "        border-radius: 50%;\n",
              "        cursor: pointer;\n",
              "        display: none;\n",
              "        fill: #1967D2;\n",
              "        height: 32px;\n",
              "        padding: 0 0 0 0;\n",
              "        width: 32px;\n",
              "      }\n",
              "\n",
              "      .colab-df-generate:hover {\n",
              "        background-color: #E2EBFA;\n",
              "        box-shadow: 0px 1px 2px rgba(60, 64, 67, 0.3), 0px 1px 3px 1px rgba(60, 64, 67, 0.15);\n",
              "        fill: #174EA6;\n",
              "      }\n",
              "\n",
              "      [theme=dark] .colab-df-generate {\n",
              "        background-color: #3B4455;\n",
              "        fill: #D2E3FC;\n",
              "      }\n",
              "\n",
              "      [theme=dark] .colab-df-generate:hover {\n",
              "        background-color: #434B5C;\n",
              "        box-shadow: 0px 1px 3px 1px rgba(0, 0, 0, 0.15);\n",
              "        filter: drop-shadow(0px 1px 2px rgba(0, 0, 0, 0.3));\n",
              "        fill: #FFFFFF;\n",
              "      }\n",
              "    </style>\n",
              "    <button class=\"colab-df-generate\" onclick=\"generateWithVariable('titanicdata')\"\n",
              "            title=\"Generate code using this dataframe.\"\n",
              "            style=\"display:none;\">\n",
              "\n",
              "  <svg xmlns=\"http://www.w3.org/2000/svg\" height=\"24px\"viewBox=\"0 0 24 24\"\n",
              "       width=\"24px\">\n",
              "    <path d=\"M7,19H8.4L18.45,9,17,7.55,7,17.6ZM5,21V16.75L18.45,3.32a2,2,0,0,1,2.83,0l1.4,1.43a1.91,1.91,0,0,1,.58,1.4,1.91,1.91,0,0,1-.58,1.4L9.25,21ZM18.45,9,17,7.55Zm-12,3A5.31,5.31,0,0,0,4.9,8.1,5.31,5.31,0,0,0,1,6.5,5.31,5.31,0,0,0,4.9,4.9,5.31,5.31,0,0,0,6.5,1,5.31,5.31,0,0,0,8.1,4.9,5.31,5.31,0,0,0,12,6.5,5.46,5.46,0,0,0,6.5,12Z\"/>\n",
              "  </svg>\n",
              "    </button>\n",
              "    <script>\n",
              "      (() => {\n",
              "      const buttonEl =\n",
              "        document.querySelector('#id_f156d979-483d-4b52-a65b-9949976666a2 button.colab-df-generate');\n",
              "      buttonEl.style.display =\n",
              "        google.colab.kernel.accessAllowed ? 'block' : 'none';\n",
              "\n",
              "      buttonEl.onclick = () => {\n",
              "        google.colab.notebook.generateWithVariable('titanicdata');\n",
              "      }\n",
              "      })();\n",
              "    </script>\n",
              "  </div>\n",
              "\n",
              "    </div>\n",
              "  </div>\n"
            ],
            "application/vnd.google.colaboratory.intrinsic+json": {
              "type": "dataframe",
              "variable_name": "titanicdata",
              "summary": "{\n  \"name\": \"titanicdata\",\n  \"rows\": 891,\n  \"fields\": [\n    {\n      \"column\": \"PassengerId\",\n      \"properties\": {\n        \"dtype\": \"number\",\n        \"std\": 257,\n        \"min\": 1,\n        \"max\": 891,\n        \"num_unique_values\": 891,\n        \"samples\": [\n          710,\n          440,\n          841\n        ],\n        \"semantic_type\": \"\",\n        \"description\": \"\"\n      }\n    },\n    {\n      \"column\": \"Survived\",\n      \"properties\": {\n        \"dtype\": \"number\",\n        \"std\": 0,\n        \"min\": 0,\n        \"max\": 1,\n        \"num_unique_values\": 2,\n        \"samples\": [\n          1,\n          0\n        ],\n        \"semantic_type\": \"\",\n        \"description\": \"\"\n      }\n    },\n    {\n      \"column\": \"Pclass\",\n      \"properties\": {\n        \"dtype\": \"number\",\n        \"std\": 0,\n        \"min\": 1,\n        \"max\": 3,\n        \"num_unique_values\": 3,\n        \"samples\": [\n          3,\n          1\n        ],\n        \"semantic_type\": \"\",\n        \"description\": \"\"\n      }\n    },\n    {\n      \"column\": \"Name\",\n      \"properties\": {\n        \"dtype\": \"string\",\n        \"num_unique_values\": 891,\n        \"samples\": [\n          \"Moubarek, Master. Halim Gonios (\\\"William George\\\")\",\n          \"Kvillner, Mr. Johan Henrik Johannesson\"\n        ],\n        \"semantic_type\": \"\",\n        \"description\": \"\"\n      }\n    },\n    {\n      \"column\": \"Sex\",\n      \"properties\": {\n        \"dtype\": \"category\",\n        \"num_unique_values\": 2,\n        \"samples\": [\n          \"female\",\n          \"male\"\n        ],\n        \"semantic_type\": \"\",\n        \"description\": \"\"\n      }\n    },\n    {\n      \"column\": \"Age\",\n      \"properties\": {\n        \"dtype\": \"number\",\n        \"std\": 14.526497332334044,\n        \"min\": 0.42,\n        \"max\": 80.0,\n        \"num_unique_values\": 88,\n        \"samples\": [\n          0.75,\n          22.0\n        ],\n        \"semantic_type\": \"\",\n        \"description\": \"\"\n      }\n    },\n    {\n      \"column\": \"SibSp\",\n      \"properties\": {\n        \"dtype\": \"number\",\n        \"std\": 1,\n        \"min\": 0,\n        \"max\": 8,\n        \"num_unique_values\": 7,\n        \"samples\": [\n          1,\n          0\n        ],\n        \"semantic_type\": \"\",\n        \"description\": \"\"\n      }\n    },\n    {\n      \"column\": \"Parch\",\n      \"properties\": {\n        \"dtype\": \"number\",\n        \"std\": 0,\n        \"min\": 0,\n        \"max\": 6,\n        \"num_unique_values\": 7,\n        \"samples\": [\n          0,\n          1\n        ],\n        \"semantic_type\": \"\",\n        \"description\": \"\"\n      }\n    },\n    {\n      \"column\": \"Ticket\",\n      \"properties\": {\n        \"dtype\": \"string\",\n        \"num_unique_values\": 681,\n        \"samples\": [\n          \"11774\",\n          \"248740\"\n        ],\n        \"semantic_type\": \"\",\n        \"description\": \"\"\n      }\n    },\n    {\n      \"column\": \"Fare\",\n      \"properties\": {\n        \"dtype\": \"number\",\n        \"std\": 49.693428597180905,\n        \"min\": 0.0,\n        \"max\": 512.3292,\n        \"num_unique_values\": 248,\n        \"samples\": [\n          11.2417,\n          51.8625\n        ],\n        \"semantic_type\": \"\",\n        \"description\": \"\"\n      }\n    },\n    {\n      \"column\": \"Cabin\",\n      \"properties\": {\n        \"dtype\": \"category\",\n        \"num_unique_values\": 147,\n        \"samples\": [\n          \"D45\",\n          \"B49\"\n        ],\n        \"semantic_type\": \"\",\n        \"description\": \"\"\n      }\n    },\n    {\n      \"column\": \"Embarked\",\n      \"properties\": {\n        \"dtype\": \"category\",\n        \"num_unique_values\": 3,\n        \"samples\": [\n          \"S\",\n          \"C\"\n        ],\n        \"semantic_type\": \"\",\n        \"description\": \"\"\n      }\n    }\n  ]\n}"
            }
          },
          "metadata": {},
          "execution_count": 25
        }
      ],
      "source": [
        "titanicdata"
      ]
    },
    {
      "cell_type": "code",
      "execution_count": null,
      "metadata": {
        "colab": {
          "base_uri": "https://localhost:8080/",
          "height": 505
        },
        "id": "VGCI0xfyrdN2",
        "outputId": "cccc1efd-04a2-4441-a27d-80fd80e25312"
      },
      "outputs": [
        {
          "output_type": "display_data",
          "data": {
            "text/plain": [
              "<Figure size 640x480 with 2 Axes>"
            ],
            "image/png": "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\n"
          },
          "metadata": {}
        }
      ],
      "source": [
        "import seaborn as sns\n",
        "import numpy as np\n",
        "import matplotlib.pyplot as plt\n",
        "\n",
        "\n",
        "numeric_data = titanicdata.select_dtypes(include=np.number)\n",
        "\n",
        "sns.heatmap(numeric_data.corr(), cmap=\"YlGnBu\")\n",
        "plt.show()"
      ]
    },
    {
      "cell_type": "markdown",
      "metadata": {
        "id": "VEag2Kwvw8WD"
      },
      "source": [
        "stratefied shuffle split\n",
        "ensuring we have similar distibution in test and training set less error"
      ]
    },
    {
      "cell_type": "code",
      "execution_count": null,
      "metadata": {
        "id": "y-f7svlbvN1c"
      },
      "outputs": [],
      "source": [
        "from sklearn.model_selection import StratifiedShuffleSplit\n",
        "\n",
        "split = StratifiedShuffleSplit(n_splits=1, test_size=0.2)\n",
        "for train_indices, test_indices in split.split(titanicdata, titanicdata[[\"Survived\", \"Pclass\", \"Sex\"]]):\n",
        "  strat_train_set = titanicdata.loc[train_indices]\n",
        "  strat_test_set = titanicdata.loc[test_indices]\n"
      ]
    },
    {
      "cell_type": "code",
      "execution_count": null,
      "metadata": {
        "colab": {
          "base_uri": "https://localhost:8080/",
          "height": 430
        },
        "id": "lld4YAY4zd8D",
        "outputId": "8363c9ce-eb14-4e3d-a0d4-d1f8f3d51a32"
      },
      "outputs": [
        {
          "output_type": "display_data",
          "data": {
            "text/plain": [
              "<Figure size 640x480 with 2 Axes>"
            ],
            "image/png": "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\n"
          },
          "metadata": {}
        }
      ],
      "source": [
        "plt.subplot(1,2,1)\n",
        "strat_train_set[\"Survived\"].hist()\n",
        "strat_train_set[\"Pclass\"].hist()\n",
        "plt.subplot(1,2,2)\n",
        "strat_test_set[\"Survived\"].hist()\n",
        "strat_test_set[\"Pclass\"].hist()\n",
        "plt.show()"
      ]
    },
    {
      "cell_type": "code",
      "source": [
        "class TitleExtractor(BaseEstimator, TransformerMixin):\n",
        "    def fit(self, X, y=None):\n",
        "        return self\n",
        "\n",
        "    def transform(self, X):\n",
        "        title_list = ['Mrs', 'Mr', 'Master', 'Miss', 'Major', 'Rev',\n",
        "                      'Dr', 'Ms', 'Mlle','Col', 'Capt', 'Mme', 'Countess',\n",
        "                      'Don', 'Jonkheer']\n",
        "        def get_title(name):\n",
        "            for t in title_list:\n",
        "                if t in name:\n",
        "                    return t\n",
        "            return np.nan\n",
        "\n",
        "        df = X.copy()\n",
        "        df['Title'] = df['Name'].apply(get_title)\n",
        "\n",
        "        def simplify(row):\n",
        "            title = row['Title']\n",
        "            if title in ['Don', 'Major', 'Capt', 'Jonkheer', 'Rev', 'Col']:\n",
        "                return 'Mr'\n",
        "            elif title in ['Countess', 'Mme']:\n",
        "                return 'Mrs'\n",
        "            elif title in ['Mlle', 'Ms']:\n",
        "                return 'Miss'\n",
        "            elif title == 'Dr':\n",
        "                return 'Mr' if row['Sex'] == 'male' else 'Mrs'\n",
        "            else:\n",
        "                return title\n",
        "\n",
        "        df['Title'] = df.apply(simplify, axis=1)\n",
        "        return df"
      ],
      "metadata": {
        "id": "l5t55uJqSWyK"
      },
      "execution_count": null,
      "outputs": []
    },
    {
      "cell_type": "code",
      "source": [
        "class FamilySizeAdder(BaseEstimator, TransformerMixin):\n",
        "    def fit(self, X, y=None):\n",
        "        return self\n",
        "\n",
        "    def transform(self, X):\n",
        "        df = X.copy()\n",
        "        df['Family_Size'] = df['SibSp'] + df['Parch'] + 1\n",
        "        return df\n",
        "\n",
        "class AgeImputer(BaseEstimator, TransformerMixin):\n",
        "    def fit(self, X, y=None):\n",
        "        self.median_age = X['Age'].median()\n",
        "        return self\n",
        "\n",
        "    def transform(self, X):\n",
        "        df = X.copy()\n",
        "        df['Age'] = df['Age'].fillna(self.median_age)\n",
        "        return df\n",
        "\n",
        "class FareImputer(BaseEstimator, TransformerMixin):\n",
        "    def fit(self, X, y=None):\n",
        "        self.median_fare = X['Fare'].median()\n",
        "        return self\n",
        "\n",
        "    def transform(self, X):\n",
        "        df = X.copy()\n",
        "        df['Fare'] = df['Fare'].fillna(self.median_fare)\n",
        "        return df"
      ],
      "metadata": {
        "id": "q6GpPIpXSbMi"
      },
      "execution_count": null,
      "outputs": []
    },
    {
      "cell_type": "code",
      "source": [
        "class DeckExtractor(BaseEstimator, TransformerMixin):\n",
        "    def fit(self, X, y=None):\n",
        "        return self\n",
        "\n",
        "    def transform(self, X):\n",
        "        df = X.copy()\n",
        "        def get_deck(cabin):\n",
        "            if pd.isna(cabin):\n",
        "                return 'Unknown'\n",
        "            return cabin[0]\n",
        "        df['Deck'] = df['Cabin'].apply(get_deck)\n",
        "        return df"
      ],
      "metadata": {
        "id": "_KHn8aVjSnj3"
      },
      "execution_count": null,
      "outputs": []
    },
    {
      "cell_type": "code",
      "source": [
        "train_set, test_set = train_test_split(\n",
        "    titanicdata, test_size=0.2, random_state=42, stratify=titanicdata['Survived']\n",
        ")\n",
        "\n",
        "X_train = train_set.drop('Survived', axis=1)\n",
        "y_train = train_set['Survived']\n",
        "X_test = test_set.drop('Survived', axis=1)\n",
        "y_test = test_set['Survived']"
      ],
      "metadata": {
        "id": "bMbdT5mmStCX"
      },
      "execution_count": null,
      "outputs": []
    },
    {
      "cell_type": "code",
      "source": [
        "feature_engineering = Pipeline([\n",
        "    ('title', TitleExtractor()),\n",
        "    ('deck', DeckExtractor()),\n",
        "    ('family', FamilySizeAdder()),\n",
        "    ('age', AgeImputer()),\n",
        "    ('fare', FareImputer())\n",
        "])"
      ],
      "metadata": {
        "id": "P0m33uVDSwfx"
      },
      "execution_count": null,
      "outputs": []
    },
    {
      "cell_type": "code",
      "source": [
        "numeric_features = ['Age', 'Fare', 'Pclass', 'Family_Size']\n",
        "categorical_features = ['Sex', 'Embarked', 'Title', 'Deck']\n",
        "\n",
        "numeric_transformer = Pipeline([\n",
        "    ('imputer', SimpleImputer(strategy='median')),\n",
        "    ('scaler', StandardScaler())\n",
        "])\n",
        "\n",
        "categorical_transformer = Pipeline([\n",
        "    ('imputer', SimpleImputer(strategy='most_frequent')),\n",
        "    ('onehot', OneHotEncoder(handle_unknown='ignore'))\n",
        "])\n",
        "\n",
        "preprocessor = ColumnTransformer([\n",
        "    ('num', numeric_transformer, numeric_features),\n",
        "    ('cat', categorical_transformer, categorical_features)\n",
        "])"
      ],
      "metadata": {
        "id": "aoJrTGwASzue"
      },
      "execution_count": null,
      "outputs": []
    },
    {
      "cell_type": "code",
      "source": [
        "model_pipeline = Pipeline([\n",
        "    ('feature_engineering', feature_engineering),\n",
        "    ('preprocessor', preprocessor),\n",
        "    ('classifier', GradientBoostingClassifier(random_state=42, subsample=0.8, max_features='sqrt'))\n",
        "])\n"
      ],
      "metadata": {
        "id": "ZK4CxoYMS1z3"
      },
      "execution_count": null,
      "outputs": []
    },
    {
      "cell_type": "code",
      "source": [
        "param_grid = {\n",
        "    \"classifier__n_estimators\": [100, 150],\n",
        "    \"classifier__learning_rate\": [0.05, 0.1],\n",
        "    \"classifier__max_depth\": [3, 4],\n",
        "    \"classifier__min_samples_split\": [2, 3],\n",
        "    \"classifier__min_samples_leaf\": [1, 2]\n",
        "}\n",
        "\n",
        "\n",
        "\n",
        "\n"
      ],
      "metadata": {
        "id": "CjVEsl9bS3n1"
      },
      "execution_count": null,
      "outputs": []
    },
    {
      "cell_type": "code",
      "source": [
        "grid_search = GridSearchCV(\n",
        "    model_pipeline, param_grid, cv=3, scoring=\"accuracy\", n_jobs=-1\n",
        ")\n",
        "grid_search.fit(X_train, y_train)\n",
        "\n",
        "final_clf = grid_search.best_estimator_\n",
        "\n",
        "print(\"Best parameters:\", grid_search.best_params_)\n",
        "print(\"Train Accuracy:\", final_clf.score(X_train, y_train))\n",
        "print(\"Test Accuracy:\", final_clf.score(X_test, y_test))"
      ],
      "metadata": {
        "colab": {
          "base_uri": "https://localhost:8080/"
        },
        "id": "FO9uGHfYS6qR",
        "outputId": "ee9ee646-a8c3-4ec6-89a8-128914a29eba"
      },
      "execution_count": null,
      "outputs": [
        {
          "output_type": "stream",
          "name": "stdout",
          "text": [
            "Best parameters: {'classifier__learning_rate': 0.1, 'classifier__max_depth': 3, 'classifier__min_samples_leaf': 2, 'classifier__min_samples_split': 2, 'classifier__n_estimators': 100}\n",
            "Train Accuracy: 0.8764044943820225\n",
            "Test Accuracy: 0.8156424581005587\n"
          ]
        },
        {
          "output_type": "stream",
          "name": "stderr",
          "text": [
            "/usr/local/lib/python3.12/dist-packages/sklearn/pipeline.py:62: FutureWarning: This Pipeline instance is not fitted yet. Call 'fit' with appropriate arguments before using other methods such as transform, predict, etc. This will raise an error in 1.8 instead of the current warning.\n",
            "  warnings.warn(\n",
            "/usr/local/lib/python3.12/dist-packages/sklearn/pipeline.py:62: FutureWarning: This Pipeline instance is not fitted yet. Call 'fit' with appropriate arguments before using other methods such as transform, predict, etc. This will raise an error in 1.8 instead of the current warning.\n",
            "  warnings.warn(\n"
          ]
        }
      ]
    },
    {
      "cell_type": "code",
      "source": [
        "titanic_test = pd.read_csv(\"/content/titanic/test.csv\")\n",
        "predictions = final_clf.predict(titanic_test)\n",
        "\n",
        "submission = pd.DataFrame({\n",
        "    \"PassengerId\": titanic_test['PassengerId'],\n",
        "    \"Survived\": predictions\n",
        "})\n",
        "submission.to_csv(\"predictionsnew1.csv\", index=False)\n",
        "print(\"Saved predictions.csv\")"
      ],
      "metadata": {
        "colab": {
          "base_uri": "https://localhost:8080/"
        },
        "id": "693hzlOvTPaU",
        "outputId": "dd859dcf-6c6e-4aae-dbcb-0e45093363fc"
      },
      "execution_count": null,
      "outputs": [
        {
          "output_type": "stream",
          "name": "stdout",
          "text": [
            "Saved predictions.csv\n"
          ]
        },
        {
          "output_type": "stream",
          "name": "stderr",
          "text": [
            "/usr/local/lib/python3.12/dist-packages/sklearn/pipeline.py:62: FutureWarning: This Pipeline instance is not fitted yet. Call 'fit' with appropriate arguments before using other methods such as transform, predict, etc. This will raise an error in 1.8 instead of the current warning.\n",
            "  warnings.warn(\n"
          ]
        }
      ]
    },
    {
      "cell_type": "code",
      "source": [],
      "metadata": {
        "id": "aBNm6AsXaeP4"
      },
      "execution_count": null,
      "outputs": []
    },
    {
      "cell_type": "markdown",
      "source": [],
      "metadata": {
        "id": "rFmQL4TBXNmF"
      }
    }
  ]
}
