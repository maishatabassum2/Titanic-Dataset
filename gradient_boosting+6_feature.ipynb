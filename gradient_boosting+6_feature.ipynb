{
  "nbformat": 4,
  "nbformat_minor": 0,
  "metadata": {
    "colab": {
      "provenance": [],
      "authorship_tag": "ABX9TyO4lrgheJaD7mrbaFXmpP3b",
      "include_colab_link": true
    },
    "kernelspec": {
      "name": "python3",
      "display_name": "Python 3"
    },
    "language_info": {
      "name": "python"
    }
  },
  "cells": [
    {
      "cell_type": "markdown",
      "metadata": {
        "id": "view-in-github",
        "colab_type": "text"
      },
      "source": [
        "<a href=\"https://colab.research.google.com/github/maishatabassum2/Titanic-Dataset/blob/main/gradient_boosting%2B6_feature.ipynb\" target=\"_parent\"><img src=\"https://colab.research.google.com/assets/colab-badge.svg\" alt=\"Open In Colab\"/></a>"
      ]
    },
    {
      "cell_type": "code",
      "source": [],
      "metadata": {
        "id": "HHWobzrezUCn"
      },
      "execution_count": null,
      "outputs": []
    },
    {
      "cell_type": "code",
      "execution_count": 1,
      "metadata": {
        "colab": {
          "base_uri": "https://localhost:8080/"
        },
        "outputId": "d0335427-f8fb-4d9c-e64f-3f77385892bf",
        "id": "wwTxLo1WzVPt"
      },
      "outputs": [
        {
          "output_type": "stream",
          "name": "stdout",
          "text": [
            "Collecting opendatasets\n",
            "  Downloading opendatasets-0.1.22-py3-none-any.whl.metadata (9.2 kB)\n",
            "Requirement already satisfied: tqdm in /usr/local/lib/python3.12/dist-packages (from opendatasets) (4.67.1)\n",
            "Requirement already satisfied: kaggle in /usr/local/lib/python3.12/dist-packages (from opendatasets) (1.7.4.5)\n",
            "Requirement already satisfied: click in /usr/local/lib/python3.12/dist-packages (from opendatasets) (8.2.1)\n",
            "Requirement already satisfied: bleach in /usr/local/lib/python3.12/dist-packages (from kaggle->opendatasets) (6.2.0)\n",
            "Requirement already satisfied: certifi>=14.05.14 in /usr/local/lib/python3.12/dist-packages (from kaggle->opendatasets) (2025.8.3)\n",
            "Requirement already satisfied: charset-normalizer in /usr/local/lib/python3.12/dist-packages (from kaggle->opendatasets) (3.4.3)\n",
            "Requirement already satisfied: idna in /usr/local/lib/python3.12/dist-packages (from kaggle->opendatasets) (3.10)\n",
            "Requirement already satisfied: protobuf in /usr/local/lib/python3.12/dist-packages (from kaggle->opendatasets) (5.29.5)\n",
            "Requirement already satisfied: python-dateutil>=2.5.3 in /usr/local/lib/python3.12/dist-packages (from kaggle->opendatasets) (2.9.0.post0)\n",
            "Requirement already satisfied: python-slugify in /usr/local/lib/python3.12/dist-packages (from kaggle->opendatasets) (8.0.4)\n",
            "Requirement already satisfied: requests in /usr/local/lib/python3.12/dist-packages (from kaggle->opendatasets) (2.32.4)\n",
            "Requirement already satisfied: setuptools>=21.0.0 in /usr/local/lib/python3.12/dist-packages (from kaggle->opendatasets) (75.2.0)\n",
            "Requirement already satisfied: six>=1.10 in /usr/local/lib/python3.12/dist-packages (from kaggle->opendatasets) (1.17.0)\n",
            "Requirement already satisfied: text-unidecode in /usr/local/lib/python3.12/dist-packages (from kaggle->opendatasets) (1.3)\n",
            "Requirement already satisfied: urllib3>=1.15.1 in /usr/local/lib/python3.12/dist-packages (from kaggle->opendatasets) (2.5.0)\n",
            "Requirement already satisfied: webencodings in /usr/local/lib/python3.12/dist-packages (from kaggle->opendatasets) (0.5.1)\n",
            "Downloading opendatasets-0.1.22-py3-none-any.whl (15 kB)\n",
            "Installing collected packages: opendatasets\n",
            "Successfully installed opendatasets-0.1.22\n"
          ]
        }
      ],
      "source": [
        "pip install opendatasets"
      ]
    },
    {
      "cell_type": "code",
      "source": [
        "import opendatasets as od\n",
        "od.download(\"https://www.kaggle.com/competitions/titanic/submissions\")"
      ],
      "metadata": {
        "id": "-kkTaaKSN1Q-",
        "outputId": "2e697b6f-80c3-48bc-85f4-ac8b7734fa49",
        "colab": {
          "base_uri": "https://localhost:8080/"
        }
      },
      "execution_count": 3,
      "outputs": [
        {
          "output_type": "stream",
          "name": "stdout",
          "text": [
            "Please provide your Kaggle credentials to download this dataset. Learn more: http://bit.ly/kaggle-creds\n",
            "Your Kaggle username: aula2333\n",
            "Your Kaggle Key: ··········\n",
            "Downloading titanic.zip to ./titanic\n"
          ]
        },
        {
          "output_type": "stream",
          "name": "stderr",
          "text": [
            "100%|██████████| 34.1k/34.1k [00:00<00:00, 92.1MB/s]"
          ]
        },
        {
          "output_type": "stream",
          "name": "stdout",
          "text": [
            "\n",
            "Extracting archive ./titanic/titanic.zip to ./titanic\n"
          ]
        },
        {
          "output_type": "stream",
          "name": "stderr",
          "text": [
            "\n"
          ]
        }
      ]
    },
    {
      "cell_type": "code",
      "execution_count": 6,
      "metadata": {
        "id": "3eX0K9L3VGLl",
        "colab": {
          "base_uri": "https://localhost:8080/",
          "height": 699
        },
        "outputId": "396cc87b-43de-48c6-eb48-4bf0d4fbb919"
      },
      "outputs": [
        {
          "output_type": "display_data",
          "data": {
            "text/plain": [
              "<Figure size 640x480 with 2 Axes>"
            ],
            "image/png": "[encoded data removed]"
          },
          "metadata": {}
        },
        {
          "output_type": "stream",
          "name": "stdout",
          "text": [
            "Best parameters: {'classifier__learning_rate': 0.1, 'classifier__max_depth': 3, 'classifier__min_samples_leaf': 2, 'classifier__min_samples_split': 5, 'classifier__n_estimators': 100}\n",
            "Train Accuracy: 0.8778089887640449\n",
            "Test Accuracy: 0.8100558659217877\n",
            "Saved predictions.csv\n"
          ]
        },
        {
          "output_type": "stream",
          "name": "stderr",
          "text": [
            "/usr/local/lib/python3.12/dist-packages/sklearn/pipeline.py:62: FutureWarning: This Pipeline instance is not fitted yet. Call 'fit' with appropriate arguments before using other methods such as transform, predict, etc. This will raise an error in 1.8 instead of the current warning.\n",
            "  warnings.warn(\n",
            "/usr/local/lib/python3.12/dist-packages/sklearn/pipeline.py:62: FutureWarning: This Pipeline instance is not fitted yet. Call 'fit' with appropriate arguments before using other methods such as transform, predict, etc. This will raise an error in 1.8 instead of the current warning.\n",
            "  warnings.warn(\n",
            "/usr/local/lib/python3.12/dist-packages/sklearn/pipeline.py:62: FutureWarning: This Pipeline instance is not fitted yet. Call 'fit' with appropriate arguments before using other methods such as transform, predict, etc. This will raise an error in 1.8 instead of the current warning.\n",
            "  warnings.warn(\n"
          ]
        }
      ],
      "source": [
        "import pandas as pd\n",
        "import numpy as np\n",
        "\n",
        "from sklearn.base import BaseEstimator, TransformerMixin\n",
        "from sklearn.pipeline import Pipeline\n",
        "from sklearn.compose import ColumnTransformer\n",
        "from sklearn.impute import SimpleImputer\n",
        "from sklearn.preprocessing import OneHotEncoder, StandardScaler\n",
        "from sklearn.ensemble import RandomForestClassifier\n",
        "from sklearn.model_selection import train_test_split, GridSearchCV\n",
        "from sklearn.ensemble import GradientBoostingClassifier\n",
        "\n",
        "\n",
        "\n",
        "import pandas as pd\n",
        "titanicdata = pd.read_csv(\"/content/titanic/train.csv\")\n",
        "\n",
        "import seaborn as sns\n",
        "import numpy as np\n",
        "import matplotlib.pyplot as plt\n",
        "\n",
        "\n",
        "numeric_data = titanicdata.select_dtypes(include=np.number)\n",
        "\n",
        "sns.heatmap(numeric_data.corr(), cmap=\"YlGnBu\")\n",
        "plt.show()\n",
        "\n",
        "\n",
        "\n",
        "from sklearn.model_selection import train_test_split\n",
        "\n",
        "X = titanicdata.drop(\"Survived\", axis=1)\n",
        "y = titanicdata[\"Survived\"]\n",
        "\n",
        "X_train, X_test, y_train, y_test = train_test_split(\n",
        "    X, y, test_size=0.2, random_state=42, stratify=y\n",
        ")\n",
        "\n",
        "\n",
        "\n",
        "from sklearn.base import BaseEstimator, TransformerMixin\n",
        "import pandas as pd\n",
        "\n",
        "class TitleExtractor(BaseEstimator, TransformerMixin):\n",
        "    def fit(self, X, y=None):\n",
        "        return self  # nothing to fit\n",
        "\n",
        "    def transform(self, X):\n",
        "        df = X.copy()\n",
        "\n",
        "\n",
        "        df['Title'] = df['Name'].apply(lambda name: name.split(',')[1].split('.')[0].strip())\n",
        "\n",
        "\n",
        "        normalized_titles = {\n",
        "            \"Capt\":       \"Officer\",\n",
        "            \"Col\":        \"Officer\",\n",
        "            \"Major\":      \"Officer\",\n",
        "            \"Jonkheer\":   \"Royalty\",\n",
        "            \"Don\":        \"Royalty\",\n",
        "            \"Sir\":        \"Royalty\",\n",
        "            \"Dr\":         \"Officer\",\n",
        "            \"Rev\":        \"Officer\",\n",
        "            \"the Countess\": \"Royalty\",\n",
        "            \"Countess\":   \"Royalty\",\n",
        "            \"Dona\":       \"Royalty\",\n",
        "            \"Mme\":        \"Mrs\",\n",
        "            \"Mlle\":       \"Miss\",\n",
        "            \"Ms\":         \"Miss\",\n",
        "            \"Mr\":         \"Mr\",\n",
        "            \"Mrs\":        \"Mrs\",\n",
        "            \"Miss\":       \"Miss\",\n",
        "            \"Master\":     \"Master\",\n",
        "            \"Lady\":       \"Royalty\"\n",
        "        }\n",
        "\n",
        "        df['Title'] = df['Title'].map(normalized_titles)\n",
        "\n",
        "        df['Title'] = df['Title'].fillna('Unknown')\n",
        "\n",
        "        return df\n",
        "\n",
        "\n",
        "class FamilySizeAdder(BaseEstimator, TransformerMixin):\n",
        "    def fit(self, X, y=None):\n",
        "        return self\n",
        "\n",
        "    def transform(self, X):\n",
        "        df = X.copy()\n",
        "        df['Family_Size'] = df['SibSp'] + df['Parch'] + 1\n",
        "        return df\n",
        "\n",
        "class AgeImputer(BaseEstimator, TransformerMixin):\n",
        "    def fit(self, X, y=None):\n",
        "        self.median_age = X['Age'].median()\n",
        "        return self\n",
        "\n",
        "    def transform(self, X):\n",
        "        df = X.copy()\n",
        "        df['Age'] = df['Age'].fillna(self.median_age)\n",
        "        return df\n",
        "\n",
        "class FareImputer(BaseEstimator, TransformerMixin):\n",
        "    def fit(self, X, y=None):\n",
        "        self.median_fare = X['Fare'].median()\n",
        "        return self\n",
        "\n",
        "    def transform(self, X):\n",
        "        df = X.copy()\n",
        "        df['Fare'] = df['Fare'].fillna(self.median_fare)\n",
        "        return df\n",
        "\n",
        "class IsAloneAdder(BaseEstimator, TransformerMixin):\n",
        "    def fit(self, X, y=None):\n",
        "        return self\n",
        "\n",
        "    def transform(self, X):\n",
        "        df = X.copy()\n",
        "        df['IsAlone'] = (df['Family_Size'] == 1).astype(int)\n",
        "        return df\n",
        "\n",
        "\n",
        "class DeckExtractor(BaseEstimator, TransformerMixin):\n",
        "    def fit(self, X, y=None):\n",
        "        return self\n",
        "\n",
        "    def transform(self, X):\n",
        "        df = X.copy()\n",
        "        def get_deck(cabin):\n",
        "            if pd.isna(cabin):\n",
        "                return 'Unknown'\n",
        "            return cabin[0]\n",
        "        df['Deck'] = df['Cabin'].apply(get_deck)\n",
        "        return df\n",
        "\n",
        "train_set, test_set = train_test_split(\n",
        "    titanicdata, test_size=0.2, random_state=42, stratify=titanicdata['Survived']\n",
        ")\n",
        "\n",
        "X_train = train_set.drop('Survived', axis=1)\n",
        "y_train = train_set['Survived']\n",
        "X_test = test_set.drop('Survived', axis=1)\n",
        "y_test = test_set['Survived']\n",
        "\n",
        "feature_engineering = Pipeline([\n",
        "    ('title', TitleExtractor()),\n",
        "    ('deck', DeckExtractor()),\n",
        "    ('family', FamilySizeAdder()),\n",
        "    ('age', AgeImputer()),\n",
        "    ('fare', FareImputer()),\n",
        "    ('is_alone', IsAloneAdder())\n",
        "])\n",
        "\n",
        "\n",
        "numeric_features = ['Age', 'Fare', 'Pclass', 'Family_Size']\n",
        "categorical_features = ['Sex', 'Title', 'Deck']\n",
        "\n",
        "numeric_transformer = Pipeline([\n",
        "    ('imputer', SimpleImputer(strategy='median')),\n",
        "    ('scaler', StandardScaler())\n",
        "])\n",
        "\n",
        "categorical_transformer = Pipeline([\n",
        "    ('imputer', SimpleImputer(strategy='most_frequent')),\n",
        "    ('onehot', OneHotEncoder(handle_unknown='ignore'))\n",
        "])\n",
        "\n",
        "preprocessor = ColumnTransformer([\n",
        "    ('num', numeric_transformer, numeric_features),\n",
        "    ('cat', categorical_transformer, categorical_features)\n",
        "])\n",
        "\n",
        "model_pipeline = Pipeline([\n",
        "    ('feature_engineering', feature_engineering),\n",
        "    ('preprocessor', preprocessor),\n",
        "    ('classifier', GradientBoostingClassifier(\n",
        "        random_state=42,\n",
        "        subsample=0.8,\n",
        "        max_features='sqrt',\n",
        "        validation_fraction=0.1,\n",
        "        n_iter_no_change=10,\n",
        "        tol=1e-4) )\n",
        "])\n",
        "\n",
        "\n",
        "param_grid = {\n",
        "    \"classifier__n_estimators\": [100, 200],     # fewer trees is safer\n",
        "    \"classifier__learning_rate\": [0.05, 0.1],\n",
        "    \"classifier__max_depth\": [3],               # shallow trees reduce overfitting\n",
        "    \"classifier__min_samples_split\": [3, 5],    # avoid splits on tiny samples\n",
        "    \"classifier__min_samples_leaf\": [2, 4]      # minimum leaf size larger\n",
        "}\n",
        "\n",
        "\n",
        "from sklearn.model_selection import StratifiedKFold\n",
        "\n",
        "cv = StratifiedKFold(n_splits=5, shuffle=True, random_state=42)\n",
        "\n",
        "grid_search = GridSearchCV(\n",
        "    model_pipeline,\n",
        "    param_grid,\n",
        "    cv=cv,\n",
        "    scoring=\"accuracy\",\n",
        "    n_jobs=-1)\n",
        "\n",
        "grid_search.fit(X_train, y_train)\n",
        "\n",
        "final_clf = grid_search.best_estimator_\n",
        "\n",
        "print(\"Best parameters:\", grid_search.best_params_)\n",
        "print(\"Train Accuracy:\", final_clf.score(X_train, y_train))\n",
        "print(\"Test Accuracy:\", final_clf.score(X_test, y_test))\n",
        "\n",
        "titanic_test = pd.read_csv(\"/content/titanic/test.csv\")\n",
        "predictions = final_clf.predict(titanic_test)\n",
        "\n",
        "submission = pd.DataFrame({\n",
        "    \"PassengerId\": titanic_test['PassengerId'],\n",
        "    \"Survived\": predictions\n",
        "})\n",
        "submission.to_csv(\"predictionsnew1.csv\", index=False)\n",
        "print(\"Saved predictions.csv\")\n",
        "\n",
        "\n",
        "\n"
      ]
    }
  ]
}